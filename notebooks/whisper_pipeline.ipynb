{
 "cells": [
  {
   "cell_type": "code",
   "execution_count": 6,
   "metadata": {},
   "outputs": [],
   "source": [
    "from youtube_transcript_api import YouTubeTranscriptApi\n",
    "import os\n",
    "from openai import OpenAI\n",
    "import requests\n",
    "from dotenv import load_dotenv\n",
    "import streamlit as st\n",
    "import subprocess\n",
    "import torch"
   ]
  },
  {
   "cell_type": "code",
   "execution_count": 101,
   "metadata": {},
   "outputs": [
    {
     "data": {
      "text/plain": [
       "True"
      ]
     },
     "execution_count": 101,
     "metadata": {},
     "output_type": "execute_result"
    }
   ],
   "source": [
    "load_dotenv()"
   ]
  },
  {
   "cell_type": "code",
   "execution_count": 3,
   "metadata": {},
   "outputs": [],
   "source": [
    "def check_gpu():\n",
    "    try:\n",
    "        import torch\n",
    "        if torch.cuda.is_available():\n",
    "            return {\n",
    "                \"Device\": torch.cuda.get_device_name(0),\n",
    "                \"CUDA Version\": torch.version.cuda,\n",
    "                \"Memory Total (GB)\": round(torch.cuda.get_device_properties(0).total_memory / (1024**3), 2),\n",
    "                \"Memory Available (GB)\": round(torch.cuda.mem_get_info()[0] / (1024**3), 2)\n",
    "            }\n",
    "    except:\n",
    "        pass\n",
    "    return None"
   ]
  },
  {
   "cell_type": "code",
   "execution_count": 9,
   "metadata": {},
   "outputs": [
    {
     "name": "stdout",
     "output_type": "stream",
     "text": [
      "False\n"
     ]
    }
   ],
   "source": [
    "print(torch.cuda.is_available())"
   ]
  },
  {
   "cell_type": "code",
   "execution_count": 8,
   "metadata": {},
   "outputs": [
    {
     "name": "stdout",
     "output_type": "stream",
     "text": [
      "True\n"
     ]
    }
   ],
   "source": [
    "print(torch.backends.cudnn.enabled)"
   ]
  },
  {
   "cell_type": "code",
   "execution_count": 4,
   "metadata": {},
   "outputs": [
    {
     "data": {
      "text/plain": [
       "<function __main__.check_gpu()>"
      ]
     },
     "execution_count": 4,
     "metadata": {},
     "output_type": "execute_result"
    }
   ],
   "source": [
    "check_gpu"
   ]
  },
  {
   "cell_type": "code",
   "execution_count": 2,
   "metadata": {},
   "outputs": [
    {
     "name": "stdout",
     "output_type": "stream",
     "text": [
      "Nvidia GPU detected!\n"
     ]
    }
   ],
   "source": [
    "try:\n",
    "    subprocess.check_output('nvidia-smi')\n",
    "    print('Nvidia GPU detected!')\n",
    "except Exception: # this command not being found can raise quite a few different errors depending on the configuration\n",
    "    print('No Nvidia GPU in system!')"
   ]
  },
  {
   "cell_type": "code",
   "execution_count": 90,
   "metadata": {},
   "outputs": [],
   "source": [
    "def get_youtube_transcript(video_url: str):\n",
    "    # extract video ID from URL\n",
    "    video_id = video_url.split(\"v=\")[1]\n",
    "\n",
    "    try:\n",
    "        transcript = YouTubeTranscriptApi.get_transcript(video_id)\n",
    "\n",
    "        # combine all text entries into a single string\n",
    "        full_transcript = \" \".join([entry['text'] for entry in transcript])\n",
    "\n",
    "        return full_transcript\n",
    "    except Exception as e:\n",
    "        print(f\"Error fetching transcript: {e}\")\n",
    "        return None"
   ]
  },
  {
   "cell_type": "code",
   "execution_count": 105,
   "metadata": {},
   "outputs": [],
   "source": [
    "def summarize_transcript():\n",
    "    st.title(\"YouTube Transcript Summarizer\")\n",
    "\n",
    "    video_url = st.text_input(\"Input YouTube URL\")\n",
    "\n",
    "    # Add sliders for paramaters\n",
    "    col1, col2 = st.columns(2)\n",
    "    with col1:\n",
    "        temperature = st.slider(\"Temperature (Randomness)\", 0.0, 1.0, 0.5, 0.01)\n",
    "    with col2:\n",
    "        presence_penalty = st.slider(\"Presence Penalty (Likelihood of discussing new topics)\", 0.0, 1.0, 0.05, 0.01)\n",
    "\n",
    "    # Create a button to trigger the start of the summarization\n",
    "    if st.button(\"Summarize\"):\n",
    "        if not video_url:\n",
    "            st.warning(\"Please enter a YouTube URL\")\n",
    "            return\n",
    "        \n",
    "        transcript = get_youtube_transcript(video_url)\n",
    "\n",
    "        if transcript:\n",
    "            st.info(\"Generating summary...\")\n",
    "\n",
    "            url = \"https://api.perplexity.ai/chat/completions\"\n",
    "\n",
    "            payload = {\n",
    "                \"model\": \"sonar-pro\",\n",
    "                \"messages\": [\n",
    "                    {\"role\": \"user\", \"content\": f\"Summarize this transcript into high quality and organized notes:{transcript}\"}\n",
    "                ],\n",
    "                \"max_tokens\": 1000,\n",
    "                \"temperature\": temperature,\n",
    "                \"presence_penalty\": presence_penalty\n",
    "\n",
    "            }\n",
    "\n",
    "            headers = {\n",
    "                \"Authorization\": f\"Bearer {os.getenv(\"PERPLEXITY_API_KEY\")}\",\n",
    "                \"Content-Type\": \"application/json\"\n",
    "            }\n",
    "\n",
    "            try:\n",
    "                response = requests.post(url, json=payload, headers=headers)\n",
    "                response_json = response.json()\n",
    "\n",
    "                if \"choices\" in response_json and len(response_json['choices'] > 0):\n",
    "                    \n",
    "                    summary = response.json().get(\"choices\")[0].get(\"message\").get(\"content\")\n",
    "                    st.markdown(summary)\n",
    "                else:\n",
    "                    st.error(f\"Error in API response: {response_json}\")\n",
    "            except Exception as e:\n",
    "                st.error(f\"Error calling Perplexity API: {e}\")"
   ]
  },
  {
   "cell_type": "code",
   "execution_count": 106,
   "metadata": {},
   "outputs": [
    {
     "name": "stderr",
     "output_type": "stream",
     "text": [
      "2025-03-31 11:40:43.798 Thread 'MainThread': missing ScriptRunContext! This warning can be ignored when running in bare mode.\n",
      "2025-03-31 11:40:43.798 Thread 'MainThread': missing ScriptRunContext! This warning can be ignored when running in bare mode.\n",
      "2025-03-31 11:40:43.799 Thread 'MainThread': missing ScriptRunContext! This warning can be ignored when running in bare mode.\n",
      "2025-03-31 11:40:43.799 Thread 'MainThread': missing ScriptRunContext! This warning can be ignored when running in bare mode.\n",
      "2025-03-31 11:40:43.799 Thread 'MainThread': missing ScriptRunContext! This warning can be ignored when running in bare mode.\n",
      "2025-03-31 11:40:43.800 Thread 'MainThread': missing ScriptRunContext! This warning can be ignored when running in bare mode.\n",
      "2025-03-31 11:40:43.800 Thread 'MainThread': missing ScriptRunContext! This warning can be ignored when running in bare mode.\n",
      "2025-03-31 11:40:43.800 Thread 'MainThread': missing ScriptRunContext! This warning can be ignored when running in bare mode.\n",
      "2025-03-31 11:40:43.800 Thread 'MainThread': missing ScriptRunContext! This warning can be ignored when running in bare mode.\n",
      "2025-03-31 11:40:43.801 Thread 'MainThread': missing ScriptRunContext! This warning can be ignored when running in bare mode.\n",
      "2025-03-31 11:40:43.801 Thread 'MainThread': missing ScriptRunContext! This warning can be ignored when running in bare mode.\n",
      "2025-03-31 11:40:43.801 Thread 'MainThread': missing ScriptRunContext! This warning can be ignored when running in bare mode.\n",
      "2025-03-31 11:40:43.801 Thread 'MainThread': missing ScriptRunContext! This warning can be ignored when running in bare mode.\n",
      "2025-03-31 11:40:43.802 Thread 'MainThread': missing ScriptRunContext! This warning can be ignored when running in bare mode.\n",
      "2025-03-31 11:40:43.802 Thread 'MainThread': missing ScriptRunContext! This warning can be ignored when running in bare mode.\n",
      "2025-03-31 11:40:43.802 Thread 'MainThread': missing ScriptRunContext! This warning can be ignored when running in bare mode.\n",
      "2025-03-31 11:40:43.802 Thread 'MainThread': missing ScriptRunContext! This warning can be ignored when running in bare mode.\n",
      "2025-03-31 11:40:43.803 Thread 'MainThread': missing ScriptRunContext! This warning can be ignored when running in bare mode.\n",
      "2025-03-31 11:40:43.803 Thread 'MainThread': missing ScriptRunContext! This warning can be ignored when running in bare mode.\n",
      "2025-03-31 11:40:43.803 Thread 'MainThread': missing ScriptRunContext! This warning can be ignored when running in bare mode.\n",
      "2025-03-31 11:40:43.804 Thread 'MainThread': missing ScriptRunContext! This warning can be ignored when running in bare mode.\n",
      "2025-03-31 11:40:43.804 Thread 'MainThread': missing ScriptRunContext! This warning can be ignored when running in bare mode.\n",
      "2025-03-31 11:40:43.804 Thread 'MainThread': missing ScriptRunContext! This warning can be ignored when running in bare mode.\n",
      "2025-03-31 11:40:43.804 Thread 'MainThread': missing ScriptRunContext! This warning can be ignored when running in bare mode.\n",
      "2025-03-31 11:40:43.804 Thread 'MainThread': missing ScriptRunContext! This warning can be ignored when running in bare mode.\n",
      "2025-03-31 11:40:43.805 Thread 'MainThread': missing ScriptRunContext! This warning can be ignored when running in bare mode.\n"
     ]
    }
   ],
   "source": [
    "summarize_transcript()"
   ]
  }
 ],
 "metadata": {
  "kernelspec": {
   "display_name": ".venv",
   "language": "python",
   "name": "python3"
  },
  "language_info": {
   "codemirror_mode": {
    "name": "ipython",
    "version": 3
   },
   "file_extension": ".py",
   "mimetype": "text/x-python",
   "name": "python",
   "nbconvert_exporter": "python",
   "pygments_lexer": "ipython3",
   "version": "3.13.1"
  }
 },
 "nbformat": 4,
 "nbformat_minor": 2
}
